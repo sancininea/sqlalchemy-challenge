{
 "cells": [
  {
   "cell_type": "code",
   "execution_count": 1,
   "metadata": {},
   "outputs": [],
   "source": [
    "###########################################################################################\n",
    "#                                                                                         #\n",
    "# Import all libraries                                                                    #\n",
    "#                                                                                         #\n",
    "###########################################################################################\n",
    "\n",
    "%matplotlib inline\n",
    "from matplotlib import style\n",
    "style.use('fivethirtyeight')\n",
    "import matplotlib.pyplot as plt\n",
    "\n",
    "import numpy as np\n",
    "import pandas as pd\n",
    "\n",
    "import datetime as dt\n",
    "\n",
    "# Python SQL toolkit and Object Relational Mapper\n",
    "import sqlalchemy\n",
    "from sqlalchemy.ext.automap import automap_base\n",
    "from sqlalchemy.orm import Session\n",
    "from sqlalchemy import create_engine, func"
   ]
  },
  {
   "cell_type": "code",
   "execution_count": 2,
   "metadata": {},
   "outputs": [
    {
     "data": {
      "text/plain": [
       "['measurement', 'station']"
      ]
     },
     "execution_count": 2,
     "metadata": {},
     "output_type": "execute_result"
    }
   ],
   "source": [
    "###########################################################################################\n",
    "#                                                                                         #\n",
    "# Reflect the hawaii database and check the tables in it                                  #\n",
    "#                                                                                         #\n",
    "###########################################################################################\n",
    "engine = create_engine(\"sqlite:///Resources/hawaii.sqlite\")\n",
    "\n",
    "# reflect an existing database into a new model\n",
    "Base = automap_base()\n",
    "# reflect the tables\n",
    "Base.prepare(engine, reflect=True)\n",
    "\n",
    "# We can view all of the classes that automap found\n",
    "Base.classes.keys()"
   ]
  },
  {
   "cell_type": "code",
   "execution_count": 3,
   "metadata": {},
   "outputs": [],
   "source": [
    "###########################################################################################\n",
    "#                                                                                         #\n",
    "# Table references and Session                                                            #\n",
    "#                                                                                         #\n",
    "###########################################################################################\n",
    "# Save references to each table\n",
    "Measurement = Base.classes.measurement\n",
    "Station = Base.classes.station\n",
    "\n",
    "session = Session(engine)"
   ]
  },
  {
   "cell_type": "code",
   "execution_count": 4,
   "metadata": {},
   "outputs": [
    {
     "name": "stdout",
     "output_type": "stream",
     "text": [
      "(0, 'id', 'INTEGER', 1, None, 1)\n",
      "(1, 'station', 'TEXT', 0, None, 0)\n",
      "(2, 'date', 'TEXT', 0, None, 0)\n",
      "(3, 'prcp', 'FLOAT', 0, None, 0)\n",
      "(4, 'tobs', 'FLOAT', 0, None, 0)\n"
     ]
    }
   ],
   "source": [
    "###########################################################################################\n",
    "#                                                                                         #\n",
    "# Check the contents of the table Measurement                                             #\n",
    "#                                                                                         #\n",
    "###########################################################################################\n",
    "esquema = engine.execute(\"PRAGMA table_info(measurement)\")\n",
    "for x in esquema:\n",
    "    print(x)"
   ]
  },
  {
   "cell_type": "code",
   "execution_count": 5,
   "metadata": {},
   "outputs": [
    {
     "name": "stdout",
     "output_type": "stream",
     "text": [
      "(0, 'id', 'INTEGER', 1, None, 1)\n",
      "(1, 'station', 'TEXT', 0, None, 0)\n",
      "(2, 'name', 'TEXT', 0, None, 0)\n",
      "(3, 'latitude', 'FLOAT', 0, None, 0)\n",
      "(4, 'longitude', 'FLOAT', 0, None, 0)\n",
      "(5, 'elevation', 'FLOAT', 0, None, 0)\n"
     ]
    }
   ],
   "source": [
    "###########################################################################################\n",
    "#                                                                                         #\n",
    "# Check the contents of the table Station                                                 #\n",
    "#                                                                                         #\n",
    "###########################################################################################\n",
    "esquema = engine.execute(\"PRAGMA table_info(station)\")\n",
    "for x in esquema:\n",
    "    print(x)"
   ]
  },
  {
   "cell_type": "markdown",
   "metadata": {},
   "source": [
    "# Exploratory Climate Analysis"
   ]
  },
  {
   "cell_type": "code",
   "execution_count": 6,
   "metadata": {},
   "outputs": [],
   "source": [
    "###########################################################################################\n",
    "#                                                                                         #\n",
    "#  Precipitation Analysis                                                                 #\n",
    "#  Design a query to retrieve the last 12 months of precipitation data and plot the       #\n",
    "#  results                                                                                #\n",
    "#                                                                                         #\n",
    "###########################################################################################\n",
    "\n",
    "# Calculate the date 1 year ago from the last data point in the database\n",
    "lastDate = session.query(Measurement.date).order_by(Measurement.date.desc()).first()\n",
    "lastDateDT = dt.datetime.strptime(lastDate[0], \"%Y-%m-%d\")\n",
    "twelveMonthsAgo = lastDateDT - dt.timedelta(days=365)\n",
    "\n",
    "# Perform a query to retrieve the data and precipitation scores\n",
    "data = []\n",
    "for row in session.query(Measurement.date, Measurement.prcp).filter(Measurement.date >= twelveMonthsAgo).all():\n",
    "    data.append(row)\n",
    "\n",
    "# Save the query results as a Pandas DataFrame and set the index to the date column\n",
    "# Sort the dataframe by date\n",
    "dataPD = pd.DataFrame(data).sort_values(by=['date'])\n",
    "dataPD.columns = ['date', 'precipitation']\n",
    "dataPD.dropna()\n",
    "dataPD.set_index(\"date\", inplace=True)"
   ]
  },
  {
   "cell_type": "code",
   "execution_count": 7,
   "metadata": {
    "scrolled": false
   },
   "outputs": [
    {
     "data": {
      "image/png": "[encoded data removed]",
      "text/plain": [
       "<Figure size 432x288 with 1 Axes>"
      ]
     },
     "metadata": {
      "needs_background": "light"
     },
     "output_type": "display_data"
    },
    {
     "data": {
      "text/plain": [
       "<Figure size 432x288 with 0 Axes>"
      ]
     },
     "metadata": {},
     "output_type": "display_data"
    }
   ],
   "source": [
    "# Use Pandas Plotting with Matplotlib to plot the data\n",
    "dataPD[dataPD['precipitation'] > 0].plot(title='Measurement of precipitation')\n",
    "plt.tick_params(\n",
    "    axis='x',          # changes apply to the x-axis\n",
    "    which='both',      # both major and minor ticks are affected\n",
    "    bottom=False,      # ticks along the bottom edge are off\n",
    "    top=False,         # ticks along the top edge are off\n",
    "    labelbottom=False)\n",
    "plt.show()\n",
    "plt.savefig(\"./Resources/Precipitations.png\")"
   ]
  },
  {
   "cell_type": "code",
   "execution_count": 8,
   "metadata": {},
   "outputs": [
    {
     "name": "stdout",
     "output_type": "stream",
     "text": [
      "\n",
      "Summary Statistics\n",
      "-------------------------------------\n",
      "Rows used to calculate (Date/Station): 2015\n",
      "Average precipitation: 0.18\n",
      "Max precipitation: 6.7\n",
      "Min precipitation: 0.0\n",
      "\n"
     ]
    }
   ],
   "source": [
    "###########################################################################################\n",
    "#                                                                                         #\n",
    "# Use Pandas to calcualte the summary statistics for the precipitation data               #\n",
    "#                                                                                         #\n",
    "###########################################################################################\n",
    "\n",
    "print(f'''\n",
    "Summary Statistics\n",
    "-------------------------------------\n",
    "Rows used to calculate (Date/Station): {dataPD.count()[0]}\n",
    "Average precipitation: {round(dataPD.mean()[0],2)}\n",
    "Max precipitation: {dataPD.max()[0]}\n",
    "Min precipitation: {dataPD.min()[0]}\n",
    "''')"
   ]
  },
  {
   "cell_type": "code",
   "execution_count": 9,
   "metadata": {},
   "outputs": [
    {
     "name": "stdout",
     "output_type": "stream",
     "text": [
      "There are: 9 stations\n"
     ]
    }
   ],
   "source": [
    "###########################################################################################\n",
    "#                                                                                         #\n",
    "# Design a query to show how many stations are available in this dataset                  #\n",
    "#                                                                                         #\n",
    "###########################################################################################\n",
    "\n",
    "stations = session.query(Station).count()\n",
    "\n",
    "print(f\"There are: {stations} stations\")"
   ]
  },
  {
   "cell_type": "code",
   "execution_count": 10,
   "metadata": {},
   "outputs": [
    {
     "name": "stdout",
     "output_type": "stream",
     "text": [
      "('USC00519281', 2772)\n",
      "('USC00519397', 2724)\n",
      "('USC00513117', 2709)\n",
      "('USC00519523', 2669)\n",
      "('USC00516128', 2612)\n",
      "('USC00514830', 2202)\n",
      "('USC00511918', 1979)\n",
      "('USC00517948', 1372)\n",
      "('USC00518838', 511)\n"
     ]
    }
   ],
   "source": [
    "###########################################################################################\n",
    "#                                                                                         #\n",
    "# What are the most active stations? (i.e. what stations have the most rows)?             #\n",
    "# List the stations and the counts in descending order.                                   #\n",
    "#                                                                                         #\n",
    "###########################################################################################\n",
    "\n",
    "for row in session.query(Measurement.station, func.count(Measurement.station)).group_by(Measurement.station).order_by(func.count(Measurement.station).desc()).all():\n",
    "    print(row)"
   ]
  },
  {
   "cell_type": "code",
   "execution_count": 11,
   "metadata": {},
   "outputs": [
    {
     "name": "stdout",
     "output_type": "stream",
     "text": [
      "\n",
      "Most Active Station\n",
      "-------------------------------------\n",
      "The most active station is: USC00519281\n",
      "Lowest temperature recorded: 54.0\n",
      "Highest temperature recorded: 85.0\n",
      "Average temperature recorded: 71.66\n",
      "\n"
     ]
    }
   ],
   "source": [
    "###########################################################################################\n",
    "#                                                                                         #\n",
    "# Using the station id from the previous query, calculate the lowest temperature recorded #\n",
    "# highest temperature recorded, and average temperature of the most active station        #\n",
    "#                                                                                         #\n",
    "###########################################################################################\n",
    "\n",
    "mostActiveStation = session.query(Measurement.station, func.count(Measurement.station)).group_by(Measurement.station).order_by(func.count(Measurement.station).desc()).first()[0]\n",
    "\n",
    "dataMAS = []\n",
    "for row in session.query(Measurement.station, Measurement.tobs).filter(Measurement.station == mostActiveStation).all():\n",
    "    dataMAS.append(row)\n",
    "dataMASPD = pd.DataFrame(dataMAS)\n",
    "dataMASPD.set_index(\"station\", inplace=True)\n",
    "\n",
    "print(f'''\n",
    "Most Active Station\n",
    "-------------------------------------\n",
    "The most active station is: {mostActiveStation}\n",
    "Lowest temperature recorded: {dataMASPD.min()[0]}\n",
    "Highest temperature recorded: {dataMASPD.max()[0]}\n",
    "Average temperature recorded: {round(dataMASPD.mean()[0],2)}\n",
    "''')"
   ]
  },
  {
   "cell_type": "code",
   "execution_count": 12,
   "metadata": {},
   "outputs": [],
   "source": [
    "###########################################################################################\n",
    "#                                                                                         #\n",
    "# Choose the station with the highest number of temperature observations.                 #\n",
    "# Query the last 12 months of temperature observation data for this station and plot the  #\n",
    "# results as a histogram                                                                  #\n",
    "#                                                                                         #\n",
    "###########################################################################################\n",
    "\n",
    "dataMASPlot = []\n",
    "\n",
    "for row in session.query(Measurement.date, Measurement.tobs).filter(Measurement.date >= twelveMonthsAgo, Measurement.station == mostActiveStation).all():\n",
    "    dataMASPlot.append(row)\n",
    "\n",
    "dataMASPlotPD = pd.DataFrame(dataMASPlot).sort_values(by=['date'])\n",
    "dataMASPlotPD.columns = ['date', 'tobs']\n",
    "dataMASPlotPD.dropna()\n",
    "dataMASPlotPD.set_index(\"date\", inplace=True)\n"
   ]
  },
  {
   "cell_type": "code",
   "execution_count": 13,
   "metadata": {},
   "outputs": [
    {
     "data": {
      "image/png": "[encoded data removed]",
      "text/plain": [
       "<Figure size 432x288 with 1 Axes>"
      ]
     },
     "metadata": {
      "needs_background": "light"
     },
     "output_type": "display_data"
    },
    {
     "data": {
      "text/plain": [
       "<Figure size 432x288 with 0 Axes>"
      ]
     },
     "metadata": {},
     "output_type": "display_data"
    }
   ],
   "source": [
    "# Use Pandas Plotting with Matplotlib to plot the data\n",
    "dataMASPlotPD.plot.hist(title='Measurement of temeperature', bins=12)\n",
    "plt.show()\n",
    "plt.savefig(\"./Resources/Temperature.png\")"
   ]
  },
  {
   "cell_type": "markdown",
   "metadata": {},
   "source": [
    "# Temperature Analysis I"
   ]
  },
  {
   "cell_type": "code",
   "execution_count": 14,
   "metadata": {},
   "outputs": [],
   "source": [
    "###########################################################################################\n",
    "#                                                                                         #\n",
    "# Create a database with the CSV files                                                    #\n",
    "# Import libraries and declare Base                                                       #\n",
    "#                                                                                         #\n",
    "###########################################################################################\n",
    "import sqlalchemy\n",
    "from sqlalchemy.ext.automap import automap_base\n",
    "from sqlalchemy.orm import Session\n",
    "import csv\n",
    "import pandas as pd\n",
    "from sqlalchemy import create_engine, Table, Column, Integer, MetaData, String, Float, Date, func\n",
    "from datetime import datetime"
   ]
  },
  {
   "cell_type": "code",
   "execution_count": 15,
   "metadata": {},
   "outputs": [
    {
     "name": "stdout",
     "output_type": "stream",
     "text": [
      "2019-11-08 23:41:20,443 INFO sqlalchemy.engine.base.Engine SELECT CAST('test plain returns' AS VARCHAR(60)) AS anon_1\n",
      "2019-11-08 23:41:20,444 INFO sqlalchemy.engine.base.Engine ()\n",
      "2019-11-08 23:41:20,447 INFO sqlalchemy.engine.base.Engine SELECT CAST('test unicode returns' AS VARCHAR(60)) AS anon_1\n",
      "2019-11-08 23:41:20,448 INFO sqlalchemy.engine.base.Engine ()\n",
      "2019-11-08 23:41:20,449 INFO sqlalchemy.engine.base.Engine PRAGMA table_info(\"stations\")\n",
      "2019-11-08 23:41:20,451 INFO sqlalchemy.engine.base.Engine ()\n",
      "2019-11-08 23:41:20,453 INFO sqlalchemy.engine.base.Engine PRAGMA table_info(\"measurements\")\n",
      "2019-11-08 23:41:20,455 INFO sqlalchemy.engine.base.Engine ()\n",
      "2019-11-08 23:41:20,457 INFO sqlalchemy.engine.base.Engine \n",
      "CREATE TABLE stations (\n",
      "\tid INTEGER NOT NULL, \n",
      "\tstation VARCHAR, \n",
      "\tname VARCHAR, \n",
      "\tlatitude FLOAT, \n",
      "\tlongitude FLOAT, \n",
      "\televation FLOAT, \n",
      "\tPRIMARY KEY (id)\n",
      ")\n",
      "\n",
      "\n",
      "2019-11-08 23:41:20,458 INFO sqlalchemy.engine.base.Engine ()\n",
      "2019-11-08 23:41:20,492 INFO sqlalchemy.engine.base.Engine COMMIT\n",
      "2019-11-08 23:41:20,493 INFO sqlalchemy.engine.base.Engine \n",
      "CREATE TABLE measurements (\n",
      "\tid INTEGER NOT NULL, \n",
      "\tstation VARCHAR, \n",
      "\tdate DATE, \n",
      "\tprcp FLOAT, \n",
      "\ttobs FLOAT, \n",
      "\tPRIMARY KEY (id)\n",
      ")\n",
      "\n",
      "\n",
      "2019-11-08 23:41:20,493 INFO sqlalchemy.engine.base.Engine ()\n",
      "2019-11-08 23:41:20,500 INFO sqlalchemy.engine.base.Engine COMMIT\n",
      "2019-11-08 23:41:20,511 INFO sqlalchemy.engine.base.Engine INSERT INTO stations (station, name, latitude, longitude, elevation) VALUES (?, ?, ?, ?, ?)\n",
      "2019-11-08 23:41:20,511 INFO sqlalchemy.engine.base.Engine (('USC00519397', 'WAIKIKI 717.2, HI US', 21.2716, -157.8168, 3.0), ('USC00513117', 'KANEOHE 838.1, HI US', 21.4234, -157.8015, 14.6), ('USC00514830', 'KUALOA RANCH HEADQUARTERS 886.9, HI US', 21.5213, -157.8374, 7.0), ('USC00517948', 'PEARL CITY, HI US', 21.3934, -157.9751, 11.9), ('USC00518838', 'UPPER WAHIAWA 874.3, HI US', 21.4992, -158.0111, 306.6), ('USC00519523', 'WAIMANALO EXPERIMENTAL FARM, HI US', 21.33556, -157.71139, 19.5), ('USC00519281', 'WAIHEE 837.5, HI US', 21.45167, -157.84889, 32.9), ('USC00511918', 'HONOLULU OBSERVATORY 702.2, HI US', 21.3152, -157.9992, 0.9), ('USC00516128', 'MANOA LYON ARBO 785.2, HI US', 21.3331, -157.8025, 152.4))\n",
      "2019-11-08 23:41:20,517 INFO sqlalchemy.engine.base.Engine COMMIT\n",
      "2019-11-08 23:41:21,206 INFO sqlalchemy.engine.base.Engine INSERT INTO measurements (station, date, prcp, tobs) VALUES (?, ?, ?, ?)\n",
      "2019-11-08 23:41:21,207 INFO sqlalchemy.engine.base.Engine (('USC00519397', '2010-01-01', 0.08, 65.0), ('USC00519397', '2010-01-02', 0.0, 63.0), ('USC00519397', '2010-01-03', 0.0, 74.0), ('USC00519397', '2010-01-04', 0.0, 76.0), ('USC00519397', '2010-01-06', 0.0, 73.0), ('USC00519397', '2010-01-07', 0.06, 70.0), ('USC00519397', '2010-01-08', 0.0, 64.0), ('USC00519397', '2010-01-09', 0.0, 68.0)  ... displaying 10 of 19550 total bound parameter sets ...  ('USC00516128', '2017-08-22', 0.5, 76.0), ('USC00516128', '2017-08-23', 0.45, 76.0))\n",
      "2019-11-08 23:41:21,331 INFO sqlalchemy.engine.base.Engine COMMIT\n"
     ]
    }
   ],
   "source": [
    "###########################################################################################\n",
    "#                                                                                         #\n",
    "# Database creation from csv                                                              #\n",
    "#                                                                                         #\n",
    "###########################################################################################\n",
    "\n",
    "engine = create_engine('sqlite:///csv_hawaii.db', echo=True)\n",
    "\n",
    "metadata = MetaData()\n",
    "# Define the table with sqlalchemy:\n",
    "my_table = Table('stations', metadata,\n",
    "    Column('id', Integer, primary_key=True),\n",
    "    Column('station', String),             \n",
    "    Column('name', String),\n",
    "    Column('latitude', Float),\n",
    "    Column('longitude', Float),\n",
    "    Column('elevation', Float)\n",
    ")\n",
    "\n",
    "my_table2 = Table('measurements', metadata,\n",
    "    Column('id', Integer, primary_key=True),\n",
    "    Column('station', String),             \n",
    "    Column('date', Date),\n",
    "    Column('prcp', Float),\n",
    "    Column('tobs', Float),\n",
    ")\n",
    "\n",
    "metadata.create_all(engine)\n",
    "insert_query = my_table.insert()\n",
    "insert_query2 = my_table2.insert()\n",
    "\n",
    "\n",
    "with open('./Resources/hawaii_stations.csv', 'r', encoding=\"utf-8\") as csvfile:\n",
    "    csv_reader = csv.reader(csvfile, delimiter=',')\n",
    "    next(csv_reader)\n",
    "    engine.execute(\n",
    "        insert_query,\n",
    "        [{ \"station\": row[0], \"name\": row[1], \"latitude\": float(row[2]), \"longitude\": float(row[3]), \"elevation\": float(row[4])} \n",
    "            for row in csv_reader]\n",
    "    )\n",
    "\n",
    "with open('./Resources/hawaii_measurements.csv', 'r', encoding=\"utf-8\") as csvfile2:\n",
    "    csv_reader2 = csv.reader(csvfile2, delimiter=',')\n",
    "    next(csv_reader2)\n",
    "    engine.execute(\n",
    "        insert_query2,\n",
    "        [{ \"station\": row2[0], \"date\": datetime.strptime(row2[1], \"%Y-%m-%d\"), \"prcp\": float(row2[2]), \"tobs\": float(row2[3])} \n",
    "            for row2 in csv_reader2]\n",
    "    )"
   ]
  },
  {
   "cell_type": "code",
   "execution_count": 16,
   "metadata": {},
   "outputs": [
    {
     "name": "stdout",
     "output_type": "stream",
     "text": [
      "2019-11-08 23:41:26,054 INFO sqlalchemy.engine.base.Engine SELECT name FROM sqlite_master WHERE type='table' ORDER BY name\n",
      "2019-11-08 23:41:26,055 INFO sqlalchemy.engine.base.Engine ()\n",
      "2019-11-08 23:41:26,057 INFO sqlalchemy.engine.base.Engine PRAGMA table_info(\"measurements\")\n",
      "2019-11-08 23:41:26,058 INFO sqlalchemy.engine.base.Engine ()\n",
      "2019-11-08 23:41:26,061 INFO sqlalchemy.engine.base.Engine SELECT sql FROM  (SELECT * FROM sqlite_master UNION ALL   SELECT * FROM sqlite_temp_master) WHERE name = 'measurements' AND type = 'table'\n",
      "2019-11-08 23:41:26,062 INFO sqlalchemy.engine.base.Engine ()\n",
      "2019-11-08 23:41:26,064 INFO sqlalchemy.engine.base.Engine PRAGMA foreign_key_list(\"measurements\")\n",
      "2019-11-08 23:41:26,066 INFO sqlalchemy.engine.base.Engine ()\n",
      "2019-11-08 23:41:26,067 INFO sqlalchemy.engine.base.Engine SELECT sql FROM  (SELECT * FROM sqlite_master UNION ALL   SELECT * FROM sqlite_temp_master) WHERE name = 'measurements' AND type = 'table'\n",
      "2019-11-08 23:41:26,069 INFO sqlalchemy.engine.base.Engine ()\n",
      "2019-11-08 23:41:26,072 INFO sqlalchemy.engine.base.Engine PRAGMA index_list(\"measurements\")\n",
      "2019-11-08 23:41:26,076 INFO sqlalchemy.engine.base.Engine ()\n",
      "2019-11-08 23:41:26,080 INFO sqlalchemy.engine.base.Engine PRAGMA index_list(\"measurements\")\n",
      "2019-11-08 23:41:26,082 INFO sqlalchemy.engine.base.Engine ()\n",
      "2019-11-08 23:41:26,086 INFO sqlalchemy.engine.base.Engine SELECT sql FROM  (SELECT * FROM sqlite_master UNION ALL   SELECT * FROM sqlite_temp_master) WHERE name = 'measurements' AND type = 'table'\n",
      "2019-11-08 23:41:26,088 INFO sqlalchemy.engine.base.Engine ()\n",
      "2019-11-08 23:41:26,094 INFO sqlalchemy.engine.base.Engine PRAGMA table_info(\"stations\")\n",
      "2019-11-08 23:41:26,094 INFO sqlalchemy.engine.base.Engine ()\n",
      "2019-11-08 23:41:26,102 INFO sqlalchemy.engine.base.Engine SELECT sql FROM  (SELECT * FROM sqlite_master UNION ALL   SELECT * FROM sqlite_temp_master) WHERE name = 'stations' AND type = 'table'\n",
      "2019-11-08 23:41:26,104 INFO sqlalchemy.engine.base.Engine ()\n",
      "2019-11-08 23:41:26,104 INFO sqlalchemy.engine.base.Engine PRAGMA foreign_key_list(\"stations\")\n",
      "2019-11-08 23:41:26,104 INFO sqlalchemy.engine.base.Engine ()\n",
      "2019-11-08 23:41:26,104 INFO sqlalchemy.engine.base.Engine SELECT sql FROM  (SELECT * FROM sqlite_master UNION ALL   SELECT * FROM sqlite_temp_master) WHERE name = 'stations' AND type = 'table'\n",
      "2019-11-08 23:41:26,104 INFO sqlalchemy.engine.base.Engine ()\n",
      "2019-11-08 23:41:26,121 INFO sqlalchemy.engine.base.Engine PRAGMA index_list(\"stations\")\n",
      "2019-11-08 23:41:26,121 INFO sqlalchemy.engine.base.Engine ()\n",
      "2019-11-08 23:41:26,121 INFO sqlalchemy.engine.base.Engine PRAGMA index_list(\"stations\")\n",
      "2019-11-08 23:41:26,121 INFO sqlalchemy.engine.base.Engine ()\n",
      "2019-11-08 23:41:26,137 INFO sqlalchemy.engine.base.Engine SELECT sql FROM  (SELECT * FROM sqlite_master UNION ALL   SELECT * FROM sqlite_temp_master) WHERE name = 'stations' AND type = 'table'\n",
      "2019-11-08 23:41:26,139 INFO sqlalchemy.engine.base.Engine ()\n"
     ]
    }
   ],
   "source": [
    "###########################################################################################\n",
    "#                                                                                         #\n",
    "# Prepare the classes                                                                     #\n",
    "#                                                                                         #\n",
    "###########################################################################################\n",
    "\n",
    "# reflect an existing database into a new model\n",
    "Base = automap_base()\n",
    "\n",
    "# reflect the tables\n",
    "Base.prepare(engine, reflect=True)\n",
    "\n",
    "# We can view all of the classes that automap found\n",
    "Base.classes.keys()\n",
    "\n",
    "Measurement = Base.classes.measurements\n",
    "Station = Base.classes.stations\n",
    "\n",
    "session = Session(engine)"
   ]
  },
  {
   "cell_type": "code",
   "execution_count": 17,
   "metadata": {},
   "outputs": [
    {
     "name": "stdout",
     "output_type": "stream",
     "text": [
      "2019-11-08 23:41:30,654 INFO sqlalchemy.engine.base.Engine BEGIN (implicit)\n",
      "2019-11-08 23:41:30,663 INFO sqlalchemy.engine.base.Engine SELECT CAST(STRFTIME('%Y', measurements.date) AS INTEGER) AS yr, avg(measurements.tobs) AS avg_tobs \n",
      "FROM measurements \n",
      "WHERE CAST(STRFTIME('%m', measurements.date) AS INTEGER) = ? GROUP BY CAST(STRFTIME('%Y', measurements.date) AS INTEGER)\n",
      "2019-11-08 23:41:30,665 INFO sqlalchemy.engine.base.Engine (6,)\n",
      "2019-11-08 23:41:30,716 INFO sqlalchemy.engine.base.Engine SELECT CAST(STRFTIME('%Y', measurements.date) AS INTEGER) AS yr, avg(measurements.tobs) AS avg_tobs \n",
      "FROM measurements \n",
      "WHERE CAST(STRFTIME('%m', measurements.date) AS INTEGER) = ? GROUP BY CAST(STRFTIME('%Y', measurements.date) AS INTEGER)\n",
      "2019-11-08 23:41:30,716 INFO sqlalchemy.engine.base.Engine (12,)\n"
     ]
    }
   ],
   "source": [
    "###########################################################################################\n",
    "#                                                                                         #\n",
    "# Identify the average temperature in June at all stations across all available years in  #\n",
    "# the dataset. Do the same for December temperature.                                      #\n",
    "#                                                                                         #\n",
    "###########################################################################################\n",
    "\n",
    "data_june = []\n",
    "for row in session.query(sqlalchemy.extract('year', Measurement.date).label('yr'), func.avg(Measurement.tobs).label('avg_tobs')).filter(sqlalchemy.extract('month', Measurement.date) == 6).group_by(sqlalchemy.extract('year', Measurement.date)).all():\n",
    "    data_june.append(row)\n",
    "\n",
    "data_dec = []\n",
    "for row in session.query(sqlalchemy.extract('year', Measurement.date).label('yr'), func.avg(Measurement.tobs).label('avg_tobs')).filter(sqlalchemy.extract('month', Measurement.date) == 12).group_by(sqlalchemy.extract('year', Measurement.date)).all():\n",
    "    data_dec.append(row)\n"
   ]
  },
  {
   "cell_type": "code",
   "execution_count": 18,
   "metadata": {},
   "outputs": [
    {
     "name": "stdout",
     "output_type": "stream",
     "text": [
      "Ttest_indResult(statistic=6.9218571747346616, pvalue=1.4518830376438732e-05)\n"
     ]
    },
    {
     "data": {
      "image/png": "[encoded data removed]",
      "text/plain": [
       "<Figure size 432x288 with 2 Axes>"
      ]
     },
     "metadata": {
      "needs_background": "light"
     },
     "output_type": "display_data"
    }
   ],
   "source": [
    "###########################################################################################\n",
    "#                                                                                         #\n",
    "# T-test                                                                                  #\n",
    "#                                                                                         #\n",
    "###########################################################################################\n",
    "\n",
    "from matplotlib import pyplot as plt\n",
    "import numpy as np\n",
    "import scipy.stats as stats\n",
    "\n",
    "data_junePD = pd.DataFrame(data_june)\n",
    "data_decPD = pd.DataFrame(data_dec)\n",
    "\n",
    "# Scatter Plot of Data\n",
    "plt.subplot(2, 1, 1)\n",
    "plt.scatter(range(len(data_junePD.avg_tobs)), data_junePD.avg_tobs, label=\"June\")\n",
    "plt.scatter(range(len(data_decPD.avg_tobs)), data_decPD.avg_tobs, label=\"December\")\n",
    "plt.legend()\n",
    "\n",
    "# Histogram Plot of Data\n",
    "plt.subplot(2, 1, 2)\n",
    "plt.hist(data_junePD.avg_tobs, 10, density=True, alpha=0.7, label=\"June\")\n",
    "plt.hist(data_decPD.avg_tobs, 10, density=True, alpha=0.7, label=\"December\")\n",
    "plt.axvline(data_junePD.avg_tobs.mean(), color='k', linestyle='dashed', linewidth=1)\n",
    "plt.axvline(data_decPD.avg_tobs.mean(), color='k', linestyle='dashed', linewidth=1)\n",
    "plt.legend()  \n",
    "\n",
    "print(stats.ttest_ind(data_junePD.avg_tobs, data_decPD.avg_tobs, equal_var=False))"
   ]
  },
  {
   "cell_type": "markdown",
   "metadata": {},
   "source": [
    "# Temperature Analysis II"
   ]
  },
  {
   "cell_type": "code",
   "execution_count": 19,
   "metadata": {},
   "outputs": [
    {
     "name": "stdout",
     "output_type": "stream",
     "text": [
      "2019-11-08 23:41:42,023 INFO sqlalchemy.engine.base.Engine SELECT min(measurements.tobs) AS min_1, avg(measurements.tobs) AS avg_1, max(measurements.tobs) AS max_1 \n",
      "FROM measurements \n",
      "WHERE measurements.date >= ? AND measurements.date <= ?\n",
      "2019-11-08 23:41:42,024 INFO sqlalchemy.engine.base.Engine ('2012-02-28', '2012-03-05')\n",
      "[(62.0, 69.57142857142857, 74.0)]\n"
     ]
    }
   ],
   "source": [
    "###########################################################################################\n",
    "#                                                                                         #\n",
    "# This function called `calc_temps` will accept start date and end date in the format     #\n",
    "# '%Y-%m-%d' and return the minimum, average, and maximum temperatures for that range     #\n",
    "# of dates                                                                                #\n",
    "#                                                                                         #\n",
    "###########################################################################################\n",
    "\n",
    "def calc_temps(start_date, end_date):\n",
    "    \"\"\"TMIN, TAVG, and TMAX for a list of dates.\n",
    "    \n",
    "    Args:\n",
    "        start_date (string): A date string in the format %Y-%m-%d\n",
    "        end_date (string): A date string in the format %Y-%m-%d\n",
    "        \n",
    "    Returns:\n",
    "        TMIN, TAVE, and TMAX\n",
    "    \"\"\"\n",
    "    \n",
    "    return session.query(func.min(Measurement.tobs), func.avg(Measurement.tobs), func.max(Measurement.tobs)).\\\n",
    "        filter(Measurement.date >= start_date).filter(Measurement.date <= end_date).all()\n",
    "\n",
    "# function usage example\n",
    "print(calc_temps('2012-02-28', '2012-03-05'))"
   ]
  },
  {
   "cell_type": "code",
   "execution_count": 20,
   "metadata": {},
   "outputs": [
    {
     "name": "stdout",
     "output_type": "stream",
     "text": [
      "2019-11-08 23:41:46,089 INFO sqlalchemy.engine.base.Engine SELECT min(measurements.tobs) AS min_1, avg(measurements.tobs) AS avg_1, max(measurements.tobs) AS max_1 \n",
      "FROM measurements \n",
      "WHERE measurements.date >= ? AND measurements.date <= ?\n",
      "2019-11-08 23:41:46,103 INFO sqlalchemy.engine.base.Engine ('2016-06-01', '2016-07-05')\n"
     ]
    },
    {
     "data": {
      "text/plain": [
       "(64.0, 75.42533936651584, 82.0)"
      ]
     },
     "execution_count": 20,
     "metadata": {},
     "output_type": "execute_result"
    }
   ],
   "source": [
    "###########################################################################################\n",
    "#                                                                                         #\n",
    "# Use your previous function `calc_temps` to calculate the tmin, tavg, and tmax           #\n",
    "# for your trip using the previous year's data for those same dates.                      #\n",
    "#                                                                                         #\n",
    "###########################################################################################\n",
    "\n",
    "resultado = calc_temps('2016-06-01', '2016-07-05')[0]\n",
    "\n",
    "resultado"
   ]
  },
  {
   "cell_type": "code",
   "execution_count": 21,
   "metadata": {},
   "outputs": [
    {
     "data": {
      "image/png": "[encoded data removed]",
      "text/plain": [
       "<Figure size 432x288 with 1 Axes>"
      ]
     },
     "metadata": {
      "needs_background": "light"
     },
     "output_type": "display_data"
    }
   ],
   "source": [
    "###########################################################################################\n",
    "#                                                                                         #\n",
    "# Plot the results from your previous query as a bar chart.                               #\n",
    "# Use \"Trip Avg Temp\" as your Title                                                       #\n",
    "# Use the average temperature for the y value                                             #\n",
    "# Use the peak-to-peak (tmax-tmin) value as the y error bar (yerr)                        #\n",
    "#                                                                                         #\n",
    "###########################################################################################\n",
    "\n",
    "x_pos = np.arange(1)\n",
    "CTEs = [resultado[1]]\n",
    "error = [resultado[2]-resultado[0]]\n",
    "\n",
    "# Build the plot\n",
    "fig, ax = plt.subplots()\n",
    "ax.bar(x_pos, CTEs,\n",
    "       yerr=error,\n",
    "       align='center',\n",
    "       alpha=0.5,\n",
    "       ecolor='black')\n",
    "ax.set_ylabel('Temp F')\n",
    "ax.set_xticks(x_pos)\n",
    "\n",
    "ax.set_title('Trip Avg Temp')\n",
    "ax.yaxis.grid(True)\n",
    "\n",
    "plt.show()"
   ]
  },
  {
   "cell_type": "markdown",
   "metadata": {},
   "source": [
    "# Daily Rainfall Average"
   ]
  },
  {
   "cell_type": "code",
   "execution_count": 23,
   "metadata": {},
   "outputs": [
    {
     "name": "stdout",
     "output_type": "stream",
     "text": [
      "2019-11-08 23:42:13,852 INFO sqlalchemy.engine.base.Engine SELECT stations.station AS stations_station, stations.name AS stations_name, stations.latitude AS stations_latitude, stations.longitude AS stations_longitude, stations.elevation AS stations_elevation, measurements.date AS measurements_date, sum(measurements.prcp) AS total_rain \n",
      "FROM stations JOIN measurements ON stations.station = measurements.station \n",
      "WHERE measurements.date >= ? AND measurements.date <= ? GROUP BY stations.station, stations.name, stations.latitude, stations.longitude, stations.elevation, measurements.date\n",
      "2019-11-08 23:42:13,852 INFO sqlalchemy.engine.base.Engine ('2016-06-01', '2016-07-05')\n"
     ]
    }
   ],
   "source": [
    "###########################################################################################\n",
    "#                                                                                         #\n",
    "# Calculate the total amount of rainfall per weather station for your trip dates using    #\n",
    "# the previous year's matching dates.                                                     #\n",
    "# Sort this in descending order by precipitation amount and list the station, name,       #\n",
    "# latitude, longitude, and elevation                                                      #\n",
    "#                                                                                         #\n",
    "###########################################################################################\n",
    "init_date = '2016-06-01' \n",
    "end_date = '2016-07-05'\n",
    "\n",
    "data_rain = []\n",
    "for row in session.query(Station.station, Station.name, Station.latitude, Station.longitude, Station.elevation, Measurement.date, func.sum(Measurement.prcp).label(\"total_rain\")).join(Measurement, Station.station == Measurement.station).filter(Measurement.date >= init_date, Measurement.date <= end_date).group_by(Station.station, Station.name, Station.latitude, Station.longitude, Station.elevation, Measurement.date).all():\n",
    "    data_rain.append(row)\n"
   ]
  },
  {
   "cell_type": "code",
   "execution_count": 24,
   "metadata": {},
   "outputs": [
    {
     "name": "stdout",
     "output_type": "stream",
     "text": [
      "2019-11-08 23:42:17,573 INFO sqlalchemy.engine.base.Engine SELECT min(measurements.tobs) AS min_1, avg(measurements.tobs) AS avg_1, max(measurements.tobs) AS max_1 \n",
      "FROM measurements \n",
      "WHERE strftime(?, measurements.date) = ?\n",
      "2019-11-08 23:42:17,575 INFO sqlalchemy.engine.base.Engine ('%m-%d', '01-01')\n"
     ]
    },
    {
     "data": {
      "text/plain": [
       "[(62.0, 69.15384615384616, 77.0)]"
      ]
     },
     "execution_count": 24,
     "metadata": {},
     "output_type": "execute_result"
    }
   ],
   "source": [
    "###########################################################################################\n",
    "#                                                                                         #\n",
    "# Create a query that will calculate the daily normals                                    #\n",
    "# (i.e. the averages for tmin, tmax, and tavg for all historic data matching a specific   #\n",
    "# month and day)                                                                          #\n",
    "#                                                                                         #\n",
    "###########################################################################################\n",
    "\n",
    "def daily_normals(date):\n",
    "    \"\"\"Daily Normals.\n",
    "    \n",
    "    Args:\n",
    "        date (str): A date string in the format '%m-%d'\n",
    "        \n",
    "    Returns:\n",
    "        A list of tuples containing the daily normals, tmin, tavg, and tmax\n",
    "    \n",
    "    \"\"\"\n",
    "    \n",
    "    sel = [func.min(Measurement.tobs), func.avg(Measurement.tobs), func.max(Measurement.tobs)]\n",
    "    return session.query(*sel).filter(func.strftime(\"%m-%d\", Measurement.date) == date).all()\n",
    "    \n",
    "daily_normals(\"01-01\")"
   ]
  },
  {
   "cell_type": "code",
   "execution_count": 25,
   "metadata": {},
   "outputs": [
    {
     "name": "stdout",
     "output_type": "stream",
     "text": [
      "2019-11-08 23:42:22,287 INFO sqlalchemy.engine.base.Engine SELECT min(measurements.tobs) AS min_1, avg(measurements.tobs) AS avg_1, max(measurements.tobs) AS max_1 \n",
      "FROM measurements \n",
      "WHERE strftime(?, measurements.date) = ?\n",
      "2019-11-08 23:42:22,288 INFO sqlalchemy.engine.base.Engine ('%m-%d', '06-01')\n",
      "2019-11-08 23:42:22,326 INFO sqlalchemy.engine.base.Engine SELECT min(measurements.tobs) AS min_1, avg(measurements.tobs) AS avg_1, max(measurements.tobs) AS max_1 \n",
      "FROM measurements \n",
      "WHERE strftime(?, measurements.date) = ?\n",
      "2019-11-08 23:42:22,328 INFO sqlalchemy.engine.base.Engine ('%m-%d', '06-02')\n",
      "2019-11-08 23:42:22,360 INFO sqlalchemy.engine.base.Engine SELECT min(measurements.tobs) AS min_1, avg(measurements.tobs) AS avg_1, max(measurements.tobs) AS max_1 \n",
      "FROM measurements \n",
      "WHERE strftime(?, measurements.date) = ?\n",
      "2019-11-08 23:42:22,360 INFO sqlalchemy.engine.base.Engine ('%m-%d', '06-03')\n",
      "2019-11-08 23:42:22,409 INFO sqlalchemy.engine.base.Engine SELECT min(measurements.tobs) AS min_1, avg(measurements.tobs) AS avg_1, max(measurements.tobs) AS max_1 \n",
      "FROM measurements \n",
      "WHERE strftime(?, measurements.date) = ?\n",
      "2019-11-08 23:42:22,409 INFO sqlalchemy.engine.base.Engine ('%m-%d', '06-04')\n",
      "2019-11-08 23:42:22,451 INFO sqlalchemy.engine.base.Engine SELECT min(measurements.tobs) AS min_1, avg(measurements.tobs) AS avg_1, max(measurements.tobs) AS max_1 \n",
      "FROM measurements \n",
      "WHERE strftime(?, measurements.date) = ?\n",
      "2019-11-08 23:42:22,451 INFO sqlalchemy.engine.base.Engine ('%m-%d', '06-05')\n",
      "2019-11-08 23:42:22,482 INFO sqlalchemy.engine.base.Engine SELECT min(measurements.tobs) AS min_1, avg(measurements.tobs) AS avg_1, max(measurements.tobs) AS max_1 \n",
      "FROM measurements \n",
      "WHERE strftime(?, measurements.date) = ?\n",
      "2019-11-08 23:42:22,482 INFO sqlalchemy.engine.base.Engine ('%m-%d', '06-06')\n",
      "2019-11-08 23:42:22,498 INFO sqlalchemy.engine.base.Engine SELECT min(measurements.tobs) AS min_1, avg(measurements.tobs) AS avg_1, max(measurements.tobs) AS max_1 \n",
      "FROM measurements \n",
      "WHERE strftime(?, measurements.date) = ?\n",
      "2019-11-08 23:42:22,498 INFO sqlalchemy.engine.base.Engine ('%m-%d', '06-07')\n",
      "2019-11-08 23:42:22,531 INFO sqlalchemy.engine.base.Engine SELECT min(measurements.tobs) AS min_1, avg(measurements.tobs) AS avg_1, max(measurements.tobs) AS max_1 \n",
      "FROM measurements \n",
      "WHERE strftime(?, measurements.date) = ?\n",
      "2019-11-08 23:42:22,533 INFO sqlalchemy.engine.base.Engine ('%m-%d', '06-08')\n",
      "2019-11-08 23:42:22,554 INFO sqlalchemy.engine.base.Engine SELECT min(measurements.tobs) AS min_1, avg(measurements.tobs) AS avg_1, max(measurements.tobs) AS max_1 \n",
      "FROM measurements \n",
      "WHERE strftime(?, measurements.date) = ?\n",
      "2019-11-08 23:42:22,554 INFO sqlalchemy.engine.base.Engine ('%m-%d', '06-09')\n",
      "2019-11-08 23:42:22,582 INFO sqlalchemy.engine.base.Engine SELECT min(measurements.tobs) AS min_1, avg(measurements.tobs) AS avg_1, max(measurements.tobs) AS max_1 \n",
      "FROM measurements \n",
      "WHERE strftime(?, measurements.date) = ?\n",
      "2019-11-08 23:42:22,582 INFO sqlalchemy.engine.base.Engine ('%m-%d', '06-10')\n",
      "2019-11-08 23:42:22,598 INFO sqlalchemy.engine.base.Engine SELECT min(measurements.tobs) AS min_1, avg(measurements.tobs) AS avg_1, max(measurements.tobs) AS max_1 \n",
      "FROM measurements \n",
      "WHERE strftime(?, measurements.date) = ?\n",
      "2019-11-08 23:42:22,598 INFO sqlalchemy.engine.base.Engine ('%m-%d', '06-11')\n",
      "2019-11-08 23:42:22,625 INFO sqlalchemy.engine.base.Engine SELECT min(measurements.tobs) AS min_1, avg(measurements.tobs) AS avg_1, max(measurements.tobs) AS max_1 \n",
      "FROM measurements \n",
      "WHERE strftime(?, measurements.date) = ?\n",
      "2019-11-08 23:42:22,633 INFO sqlalchemy.engine.base.Engine ('%m-%d', '06-12')\n",
      "2019-11-08 23:42:22,658 INFO sqlalchemy.engine.base.Engine SELECT min(measurements.tobs) AS min_1, avg(measurements.tobs) AS avg_1, max(measurements.tobs) AS max_1 \n",
      "FROM measurements \n",
      "WHERE strftime(?, measurements.date) = ?\n",
      "2019-11-08 23:42:22,659 INFO sqlalchemy.engine.base.Engine ('%m-%d', '06-13')\n",
      "2019-11-08 23:42:22,687 INFO sqlalchemy.engine.base.Engine SELECT min(measurements.tobs) AS min_1, avg(measurements.tobs) AS avg_1, max(measurements.tobs) AS max_1 \n",
      "FROM measurements \n",
      "WHERE strftime(?, measurements.date) = ?\n",
      "2019-11-08 23:42:22,687 INFO sqlalchemy.engine.base.Engine ('%m-%d', '06-14')\n",
      "2019-11-08 23:42:22,718 INFO sqlalchemy.engine.base.Engine SELECT min(measurements.tobs) AS min_1, avg(measurements.tobs) AS avg_1, max(measurements.tobs) AS max_1 \n",
      "FROM measurements \n",
      "WHERE strftime(?, measurements.date) = ?\n",
      "2019-11-08 23:42:22,719 INFO sqlalchemy.engine.base.Engine ('%m-%d', '06-15')\n",
      "2019-11-08 23:42:22,746 INFO sqlalchemy.engine.base.Engine SELECT min(measurements.tobs) AS min_1, avg(measurements.tobs) AS avg_1, max(measurements.tobs) AS max_1 \n",
      "FROM measurements \n",
      "WHERE strftime(?, measurements.date) = ?\n",
      "2019-11-08 23:42:22,747 INFO sqlalchemy.engine.base.Engine ('%m-%d', '06-16')\n",
      "2019-11-08 23:42:22,773 INFO sqlalchemy.engine.base.Engine SELECT min(measurements.tobs) AS min_1, avg(measurements.tobs) AS avg_1, max(measurements.tobs) AS max_1 \n",
      "FROM measurements \n",
      "WHERE strftime(?, measurements.date) = ?\n",
      "2019-11-08 23:42:22,774 INFO sqlalchemy.engine.base.Engine ('%m-%d', '06-17')\n",
      "2019-11-08 23:42:22,803 INFO sqlalchemy.engine.base.Engine SELECT min(measurements.tobs) AS min_1, avg(measurements.tobs) AS avg_1, max(measurements.tobs) AS max_1 \n",
      "FROM measurements \n",
      "WHERE strftime(?, measurements.date) = ?\n",
      "2019-11-08 23:42:22,804 INFO sqlalchemy.engine.base.Engine ('%m-%d', '06-18')\n",
      "2019-11-08 23:42:22,831 INFO sqlalchemy.engine.base.Engine SELECT min(measurements.tobs) AS min_1, avg(measurements.tobs) AS avg_1, max(measurements.tobs) AS max_1 \n",
      "FROM measurements \n",
      "WHERE strftime(?, measurements.date) = ?\n",
      "2019-11-08 23:42:22,832 INFO sqlalchemy.engine.base.Engine ('%m-%d', '06-19')\n",
      "2019-11-08 23:42:22,857 INFO sqlalchemy.engine.base.Engine SELECT min(measurements.tobs) AS min_1, avg(measurements.tobs) AS avg_1, max(measurements.tobs) AS max_1 \n",
      "FROM measurements \n",
      "WHERE strftime(?, measurements.date) = ?\n",
      "2019-11-08 23:42:22,858 INFO sqlalchemy.engine.base.Engine ('%m-%d', '06-20')\n",
      "2019-11-08 23:42:22,875 INFO sqlalchemy.engine.base.Engine SELECT min(measurements.tobs) AS min_1, avg(measurements.tobs) AS avg_1, max(measurements.tobs) AS max_1 \n",
      "FROM measurements \n",
      "WHERE strftime(?, measurements.date) = ?\n",
      "2019-11-08 23:42:22,875 INFO sqlalchemy.engine.base.Engine ('%m-%d', '06-21')\n",
      "2019-11-08 23:42:22,908 INFO sqlalchemy.engine.base.Engine SELECT min(measurements.tobs) AS min_1, avg(measurements.tobs) AS avg_1, max(measurements.tobs) AS max_1 \n",
      "FROM measurements \n",
      "WHERE strftime(?, measurements.date) = ?\n",
      "2019-11-08 23:42:22,908 INFO sqlalchemy.engine.base.Engine ('%m-%d', '06-22')\n",
      "2019-11-08 23:42:22,935 INFO sqlalchemy.engine.base.Engine SELECT min(measurements.tobs) AS min_1, avg(measurements.tobs) AS avg_1, max(measurements.tobs) AS max_1 \n",
      "FROM measurements \n",
      "WHERE strftime(?, measurements.date) = ?\n",
      "2019-11-08 23:42:22,935 INFO sqlalchemy.engine.base.Engine ('%m-%d', '06-23')\n",
      "2019-11-08 23:42:22,964 INFO sqlalchemy.engine.base.Engine SELECT min(measurements.tobs) AS min_1, avg(measurements.tobs) AS avg_1, max(measurements.tobs) AS max_1 \n",
      "FROM measurements \n",
      "WHERE strftime(?, measurements.date) = ?\n",
      "2019-11-08 23:42:22,965 INFO sqlalchemy.engine.base.Engine ('%m-%d', '06-24')\n",
      "2019-11-08 23:42:22,990 INFO sqlalchemy.engine.base.Engine SELECT min(measurements.tobs) AS min_1, avg(measurements.tobs) AS avg_1, max(measurements.tobs) AS max_1 \n",
      "FROM measurements \n",
      "WHERE strftime(?, measurements.date) = ?\n",
      "2019-11-08 23:42:22,991 INFO sqlalchemy.engine.base.Engine ('%m-%d', '06-25')\n",
      "2019-11-08 23:42:23,006 INFO sqlalchemy.engine.base.Engine SELECT min(measurements.tobs) AS min_1, avg(measurements.tobs) AS avg_1, max(measurements.tobs) AS max_1 \n",
      "FROM measurements \n",
      "WHERE strftime(?, measurements.date) = ?\n",
      "2019-11-08 23:42:23,019 INFO sqlalchemy.engine.base.Engine ('%m-%d', '06-26')\n",
      "2019-11-08 23:42:23,040 INFO sqlalchemy.engine.base.Engine SELECT min(measurements.tobs) AS min_1, avg(measurements.tobs) AS avg_1, max(measurements.tobs) AS max_1 \n",
      "FROM measurements \n",
      "WHERE strftime(?, measurements.date) = ?\n",
      "2019-11-08 23:42:23,040 INFO sqlalchemy.engine.base.Engine ('%m-%d', '06-27')\n",
      "2019-11-08 23:42:23,072 INFO sqlalchemy.engine.base.Engine SELECT min(measurements.tobs) AS min_1, avg(measurements.tobs) AS avg_1, max(measurements.tobs) AS max_1 \n",
      "FROM measurements \n",
      "WHERE strftime(?, measurements.date) = ?\n"
     ]
    },
    {
     "name": "stdout",
     "output_type": "stream",
     "text": [
      "2019-11-08 23:42:23,073 INFO sqlalchemy.engine.base.Engine ('%m-%d', '06-28')\n",
      "2019-11-08 23:42:23,097 INFO sqlalchemy.engine.base.Engine SELECT min(measurements.tobs) AS min_1, avg(measurements.tobs) AS avg_1, max(measurements.tobs) AS max_1 \n",
      "FROM measurements \n",
      "WHERE strftime(?, measurements.date) = ?\n",
      "2019-11-08 23:42:23,097 INFO sqlalchemy.engine.base.Engine ('%m-%d', '06-29')\n",
      "2019-11-08 23:42:23,123 INFO sqlalchemy.engine.base.Engine SELECT min(measurements.tobs) AS min_1, avg(measurements.tobs) AS avg_1, max(measurements.tobs) AS max_1 \n",
      "FROM measurements \n",
      "WHERE strftime(?, measurements.date) = ?\n",
      "2019-11-08 23:42:23,123 INFO sqlalchemy.engine.base.Engine ('%m-%d', '06-30')\n",
      "2019-11-08 23:42:23,145 INFO sqlalchemy.engine.base.Engine SELECT min(measurements.tobs) AS min_1, avg(measurements.tobs) AS avg_1, max(measurements.tobs) AS max_1 \n",
      "FROM measurements \n",
      "WHERE strftime(?, measurements.date) = ?\n",
      "2019-11-08 23:42:23,145 INFO sqlalchemy.engine.base.Engine ('%m-%d', '07-01')\n",
      "2019-11-08 23:42:23,178 INFO sqlalchemy.engine.base.Engine SELECT min(measurements.tobs) AS min_1, avg(measurements.tobs) AS avg_1, max(measurements.tobs) AS max_1 \n",
      "FROM measurements \n",
      "WHERE strftime(?, measurements.date) = ?\n",
      "2019-11-08 23:42:23,179 INFO sqlalchemy.engine.base.Engine ('%m-%d', '07-02')\n",
      "2019-11-08 23:42:23,206 INFO sqlalchemy.engine.base.Engine SELECT min(measurements.tobs) AS min_1, avg(measurements.tobs) AS avg_1, max(measurements.tobs) AS max_1 \n",
      "FROM measurements \n",
      "WHERE strftime(?, measurements.date) = ?\n",
      "2019-11-08 23:42:23,206 INFO sqlalchemy.engine.base.Engine ('%m-%d', '07-03')\n",
      "2019-11-08 23:42:23,224 INFO sqlalchemy.engine.base.Engine SELECT min(measurements.tobs) AS min_1, avg(measurements.tobs) AS avg_1, max(measurements.tobs) AS max_1 \n",
      "FROM measurements \n",
      "WHERE strftime(?, measurements.date) = ?\n",
      "2019-11-08 23:42:23,224 INFO sqlalchemy.engine.base.Engine ('%m-%d', '07-04')\n",
      "2019-11-08 23:42:23,266 INFO sqlalchemy.engine.base.Engine SELECT min(measurements.tobs) AS min_1, avg(measurements.tobs) AS avg_1, max(measurements.tobs) AS max_1 \n",
      "FROM measurements \n",
      "WHERE strftime(?, measurements.date) = ?\n",
      "2019-11-08 23:42:23,267 INFO sqlalchemy.engine.base.Engine ('%m-%d', '07-05')\n"
     ]
    }
   ],
   "source": [
    "###########################################################################################\n",
    "#                                                                                         #\n",
    "# Calculate the daily normals for your trip                                               #\n",
    "#                                                                                         #\n",
    "###########################################################################################\n",
    "\n",
    "# push each tuple of calculations into a list called `normals`\n",
    "normals = []\n",
    "\n",
    "# Set the start and end date of the trip\n",
    "init_date = '2016-06-01' \n",
    "end_date = '2016-07-05'\n",
    "\n",
    "# Use the start and end date to create a range of dates\n",
    "range_dates = pd.date_range(init_date, end_date)\n",
    "\n",
    "# Stip off the year and save a list of %m-%d strings\n",
    "list_str = []\n",
    "for x in range_dates:\n",
    "    if len(str(x.month)) == 1:\n",
    "        m = f\"0{x.month}\"\n",
    "    else:\n",
    "        m = f\"{x.month}\"\n",
    "        \n",
    "    if len(str(x.day)) == 1:\n",
    "        d = f\"0{x.day}\"\n",
    "    else:\n",
    "        d = f\"{x.day}\"\n",
    "        \n",
    "    list_str.append(f\"{m}-{d}\")\n",
    "                    \n",
    "# Loop through the list of %m-%d strings and calculate the normals for each date\n",
    "for nor in list_str:\n",
    "    normals.append(daily_normals(nor)[0])"
   ]
  },
  {
   "cell_type": "code",
   "execution_count": 26,
   "metadata": {},
   "outputs": [],
   "source": [
    "###########################################################################################\n",
    "#                                                                                         #\n",
    "# Change datetime objects for strings, so the area plot can work                          #\n",
    "#                                                                                         #\n",
    "###########################################################################################\n",
    "range_dates_str =[]\n",
    "\n",
    "for ee in range_dates:\n",
    "    range_dates_str.append(str(ee)[0:10])"
   ]
  },
  {
   "cell_type": "code",
   "execution_count": 27,
   "metadata": {},
   "outputs": [
    {
     "data": {
      "text/html": [
       "<div>\n",
       "<style scoped>\n",
       "    .dataframe tbody tr th:only-of-type {\n",
       "        vertical-align: middle;\n",
       "    }\n",
       "\n",
       "    .dataframe tbody tr th {\n",
       "        vertical-align: top;\n",
       "    }\n",
       "\n",
       "    .dataframe thead th {\n",
       "        text-align: right;\n",
       "    }\n",
       "</style>\n",
       "<table border=\"1\" class=\"dataframe\">\n",
       "  <thead>\n",
       "    <tr style=\"text-align: right;\">\n",
       "      <th></th>\n",
       "      <th>tmin</th>\n",
       "      <th>tavg</th>\n",
       "      <th>tmax</th>\n",
       "    </tr>\n",
       "    <tr>\n",
       "      <th>date</th>\n",
       "      <th></th>\n",
       "      <th></th>\n",
       "      <th></th>\n",
       "    </tr>\n",
       "  </thead>\n",
       "  <tbody>\n",
       "    <tr>\n",
       "      <th>2016-06-01</th>\n",
       "      <td>64.0</td>\n",
       "      <td>74.614035</td>\n",
       "      <td>81.0</td>\n",
       "    </tr>\n",
       "    <tr>\n",
       "      <th>2016-06-02</th>\n",
       "      <td>65.0</td>\n",
       "      <td>74.400000</td>\n",
       "      <td>81.0</td>\n",
       "    </tr>\n",
       "    <tr>\n",
       "      <th>2016-06-03</th>\n",
       "      <td>65.0</td>\n",
       "      <td>74.034483</td>\n",
       "      <td>80.0</td>\n",
       "    </tr>\n",
       "    <tr>\n",
       "      <th>2016-06-04</th>\n",
       "      <td>65.0</td>\n",
       "      <td>73.818182</td>\n",
       "      <td>81.0</td>\n",
       "    </tr>\n",
       "    <tr>\n",
       "      <th>2016-06-05</th>\n",
       "      <td>68.0</td>\n",
       "      <td>74.854545</td>\n",
       "      <td>81.0</td>\n",
       "    </tr>\n",
       "    <tr>\n",
       "      <th>2016-06-06</th>\n",
       "      <td>70.0</td>\n",
       "      <td>75.175439</td>\n",
       "      <td>80.0</td>\n",
       "    </tr>\n",
       "    <tr>\n",
       "      <th>2016-06-07</th>\n",
       "      <td>68.0</td>\n",
       "      <td>75.071429</td>\n",
       "      <td>81.0</td>\n",
       "    </tr>\n",
       "    <tr>\n",
       "      <th>2016-06-08</th>\n",
       "      <td>70.0</td>\n",
       "      <td>75.586207</td>\n",
       "      <td>81.0</td>\n",
       "    </tr>\n",
       "    <tr>\n",
       "      <th>2016-06-09</th>\n",
       "      <td>69.0</td>\n",
       "      <td>75.152542</td>\n",
       "      <td>81.0</td>\n",
       "    </tr>\n",
       "    <tr>\n",
       "      <th>2016-06-10</th>\n",
       "      <td>68.0</td>\n",
       "      <td>75.142857</td>\n",
       "      <td>81.0</td>\n",
       "    </tr>\n",
       "    <tr>\n",
       "      <th>2016-06-11</th>\n",
       "      <td>69.0</td>\n",
       "      <td>76.019608</td>\n",
       "      <td>84.0</td>\n",
       "    </tr>\n",
       "    <tr>\n",
       "      <th>2016-06-12</th>\n",
       "      <td>66.0</td>\n",
       "      <td>75.666667</td>\n",
       "      <td>83.0</td>\n",
       "    </tr>\n",
       "    <tr>\n",
       "      <th>2016-06-13</th>\n",
       "      <td>68.0</td>\n",
       "      <td>75.666667</td>\n",
       "      <td>81.0</td>\n",
       "    </tr>\n",
       "    <tr>\n",
       "      <th>2016-06-14</th>\n",
       "      <td>69.0</td>\n",
       "      <td>75.627119</td>\n",
       "      <td>81.0</td>\n",
       "    </tr>\n",
       "    <tr>\n",
       "      <th>2016-06-15</th>\n",
       "      <td>67.0</td>\n",
       "      <td>75.403509</td>\n",
       "      <td>81.0</td>\n",
       "    </tr>\n",
       "    <tr>\n",
       "      <th>2016-06-16</th>\n",
       "      <td>69.0</td>\n",
       "      <td>75.413793</td>\n",
       "      <td>81.0</td>\n",
       "    </tr>\n",
       "    <tr>\n",
       "      <th>2016-06-17</th>\n",
       "      <td>68.0</td>\n",
       "      <td>74.593220</td>\n",
       "      <td>81.0</td>\n",
       "    </tr>\n",
       "    <tr>\n",
       "      <th>2016-06-18</th>\n",
       "      <td>69.0</td>\n",
       "      <td>74.603448</td>\n",
       "      <td>80.0</td>\n",
       "    </tr>\n",
       "    <tr>\n",
       "      <th>2016-06-19</th>\n",
       "      <td>70.0</td>\n",
       "      <td>75.440678</td>\n",
       "      <td>82.0</td>\n",
       "    </tr>\n",
       "    <tr>\n",
       "      <th>2016-06-20</th>\n",
       "      <td>68.0</td>\n",
       "      <td>73.964912</td>\n",
       "      <td>85.0</td>\n",
       "    </tr>\n",
       "    <tr>\n",
       "      <th>2016-06-21</th>\n",
       "      <td>68.0</td>\n",
       "      <td>74.758621</td>\n",
       "      <td>82.0</td>\n",
       "    </tr>\n",
       "    <tr>\n",
       "      <th>2016-06-22</th>\n",
       "      <td>69.0</td>\n",
       "      <td>75.157895</td>\n",
       "      <td>81.0</td>\n",
       "    </tr>\n",
       "    <tr>\n",
       "      <th>2016-06-23</th>\n",
       "      <td>68.0</td>\n",
       "      <td>74.543860</td>\n",
       "      <td>80.0</td>\n",
       "    </tr>\n",
       "    <tr>\n",
       "      <th>2016-06-24</th>\n",
       "      <td>68.0</td>\n",
       "      <td>74.964286</td>\n",
       "      <td>84.0</td>\n",
       "    </tr>\n",
       "    <tr>\n",
       "      <th>2016-06-25</th>\n",
       "      <td>68.0</td>\n",
       "      <td>74.103448</td>\n",
       "      <td>80.0</td>\n",
       "    </tr>\n",
       "    <tr>\n",
       "      <th>2016-06-26</th>\n",
       "      <td>67.0</td>\n",
       "      <td>74.214286</td>\n",
       "      <td>82.0</td>\n",
       "    </tr>\n",
       "    <tr>\n",
       "      <th>2016-06-27</th>\n",
       "      <td>66.0</td>\n",
       "      <td>75.017857</td>\n",
       "      <td>81.0</td>\n",
       "    </tr>\n",
       "    <tr>\n",
       "      <th>2016-06-28</th>\n",
       "      <td>69.0</td>\n",
       "      <td>74.886792</td>\n",
       "      <td>80.0</td>\n",
       "    </tr>\n",
       "    <tr>\n",
       "      <th>2016-06-29</th>\n",
       "      <td>67.0</td>\n",
       "      <td>74.915254</td>\n",
       "      <td>80.0</td>\n",
       "    </tr>\n",
       "    <tr>\n",
       "      <th>2016-06-30</th>\n",
       "      <td>67.0</td>\n",
       "      <td>75.596154</td>\n",
       "      <td>81.0</td>\n",
       "    </tr>\n",
       "    <tr>\n",
       "      <th>2016-07-01</th>\n",
       "      <td>67.0</td>\n",
       "      <td>74.777778</td>\n",
       "      <td>81.0</td>\n",
       "    </tr>\n",
       "    <tr>\n",
       "      <th>2016-07-02</th>\n",
       "      <td>68.0</td>\n",
       "      <td>75.403846</td>\n",
       "      <td>82.0</td>\n",
       "    </tr>\n",
       "    <tr>\n",
       "      <th>2016-07-03</th>\n",
       "      <td>68.0</td>\n",
       "      <td>75.320755</td>\n",
       "      <td>87.0</td>\n",
       "    </tr>\n",
       "    <tr>\n",
       "      <th>2016-07-04</th>\n",
       "      <td>70.0</td>\n",
       "      <td>76.571429</td>\n",
       "      <td>81.0</td>\n",
       "    </tr>\n",
       "    <tr>\n",
       "      <th>2016-07-05</th>\n",
       "      <td>66.0</td>\n",
       "      <td>75.000000</td>\n",
       "      <td>81.0</td>\n",
       "    </tr>\n",
       "  </tbody>\n",
       "</table>\n",
       "</div>"
      ],
      "text/plain": [
       "            tmin       tavg  tmax\n",
       "date                             \n",
       "2016-06-01  64.0  74.614035  81.0\n",
       "2016-06-02  65.0  74.400000  81.0\n",
       "2016-06-03  65.0  74.034483  80.0\n",
       "2016-06-04  65.0  73.818182  81.0\n",
       "2016-06-05  68.0  74.854545  81.0\n",
       "2016-06-06  70.0  75.175439  80.0\n",
       "2016-06-07  68.0  75.071429  81.0\n",
       "2016-06-08  70.0  75.586207  81.0\n",
       "2016-06-09  69.0  75.152542  81.0\n",
       "2016-06-10  68.0  75.142857  81.0\n",
       "2016-06-11  69.0  76.019608  84.0\n",
       "2016-06-12  66.0  75.666667  83.0\n",
       "2016-06-13  68.0  75.666667  81.0\n",
       "2016-06-14  69.0  75.627119  81.0\n",
       "2016-06-15  67.0  75.403509  81.0\n",
       "2016-06-16  69.0  75.413793  81.0\n",
       "2016-06-17  68.0  74.593220  81.0\n",
       "2016-06-18  69.0  74.603448  80.0\n",
       "2016-06-19  70.0  75.440678  82.0\n",
       "2016-06-20  68.0  73.964912  85.0\n",
       "2016-06-21  68.0  74.758621  82.0\n",
       "2016-06-22  69.0  75.157895  81.0\n",
       "2016-06-23  68.0  74.543860  80.0\n",
       "2016-06-24  68.0  74.964286  84.0\n",
       "2016-06-25  68.0  74.103448  80.0\n",
       "2016-06-26  67.0  74.214286  82.0\n",
       "2016-06-27  66.0  75.017857  81.0\n",
       "2016-06-28  69.0  74.886792  80.0\n",
       "2016-06-29  67.0  74.915254  80.0\n",
       "2016-06-30  67.0  75.596154  81.0\n",
       "2016-07-01  67.0  74.777778  81.0\n",
       "2016-07-02  68.0  75.403846  82.0\n",
       "2016-07-03  68.0  75.320755  87.0\n",
       "2016-07-04  70.0  76.571429  81.0\n",
       "2016-07-05  66.0  75.000000  81.0"
      ]
     },
     "execution_count": 27,
     "metadata": {},
     "output_type": "execute_result"
    }
   ],
   "source": [
    "###########################################################################################\n",
    "#                                                                                         #\n",
    "# Load the previous query results into a Pandas DataFrame and add the `trip_dates` range  #\n",
    "# as the `date` index                                                                     #\n",
    "#                                                                                         #\n",
    "###########################################################################################\n",
    "\n",
    "\n",
    "labels = ['tmin', 'tavg', 'tmax']\n",
    "normals_pd = pd.DataFrame.from_records(normals, columns=labels)\n",
    "\n",
    "normals_pd['date'] = range_dates_str\n",
    "\n",
    "normals_pd.set_index('date')"
   ]
  },
  {
   "cell_type": "code",
   "execution_count": 28,
   "metadata": {},
   "outputs": [
    {
     "data": {
      "text/plain": [
       "<matplotlib.axes._subplots.AxesSubplot at 0x2e4919cbe48>"
      ]
     },
     "execution_count": 28,
     "metadata": {},
     "output_type": "execute_result"
    },
    {
     "data": {
      "image/png": "[encoded data removed]",
      "text/plain": [
       "<Figure size 432x288 with 1 Axes>"
      ]
     },
     "metadata": {
      "needs_background": "light"
     },
     "output_type": "display_data"
    }
   ],
   "source": [
    "###########################################################################################\n",
    "#                                                                                         #\n",
    "# Plot the daily normals as an area plot with `stacked=False`                             #\n",
    "#                                                                                         #\n",
    "###########################################################################################\n",
    "normals_pd.plot.area(stacked=False)\n"
   ]
  }
 ],
 "metadata": {
  "kernel_info": {
   "name": "python3"
  },
  "kernelspec": {
   "display_name": "Python 3",
   "language": "python",
   "name": "python3"
  },
  "language_info": {
   "codemirror_mode": {
    "name": "ipython",
    "version": 3
   },
   "file_extension": ".py",
   "mimetype": "text/x-python",
   "name": "python",
   "nbconvert_exporter": "python",
   "pygments_lexer": "ipython3",
   "version": "3.7.3"
  },
  "nteract": {
   "version": "0.12.3"
  },
  "varInspector": {
   "cols": {
    "lenName": 16,
    "lenType": 16,
    "lenVar": 40
   },
   "kernels_config": {
    "python": {
     "delete_cmd_postfix": "",
     "delete_cmd_prefix": "del ",
     "library": "var_list.py",
     "varRefreshCmd": "print(var_dic_list())"
    },
    "r": {
     "delete_cmd_postfix": ") ",
     "delete_cmd_prefix": "rm(",
     "library": "var_list.r",
     "varRefreshCmd": "cat(var_dic_list()) "
    }
   },
   "types_to_exclude": [
    "module",
    "function",
    "builtin_function_or_method",
    "instance",
    "_Feature"
   ],
   "window_display": false
  }
 },
 "nbformat": 4,
 "nbformat_minor": 2
}
